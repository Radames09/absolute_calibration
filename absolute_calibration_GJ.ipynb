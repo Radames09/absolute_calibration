{
 "cells": [
  {
   "cell_type": "markdown",
   "metadata": {},
   "source": [
    "## Spectrometer absolute calibration for calculating the concentration of Th, K and U in rock samples\n",
    "\n",
    "To determine the radionuclides concentrations in a given sample it's necessary to perform the espectrometer absolute calibration for the Potassium, Thorium and Uranium windows. Three calibration coefficients are calculated for each radioactive element, one in each standard."
   ]
  },
  {
   "cell_type": "markdown",
   "metadata": {},
   "source": [
    "**Useful libraries**"
   ]
  },
  {
   "cell_type": "code",
   "execution_count": 1,
   "metadata": {},
   "outputs": [],
   "source": [
    "import numpy as np\n",
    "import pandas as pd\n",
    "import matplotlib.pyplot as plt"
   ]
  },
  {
   "cell_type": "markdown",
   "metadata": {},
   "source": [
    "### Example\n",
    "**A laboratory wants to do an absolute calibration of its system and has the following standards**\n",
    "\n",
    "We will build a table containing all the information for an absolute calibration."
   ]
  },
  {
   "cell_type": "code",
   "execution_count": 2,
   "metadata": {},
   "outputs": [
    {
     "data": {
      "text/html": [
       "<div>\n",
       "<style scoped>\n",
       "    .dataframe tbody tr th:only-of-type {\n",
       "        vertical-align: middle;\n",
       "    }\n",
       "\n",
       "    .dataframe tbody tr th {\n",
       "        vertical-align: top;\n",
       "    }\n",
       "\n",
       "    .dataframe thead th {\n",
       "        text-align: right;\n",
       "    }\n",
       "</style>\n",
       "<table border=\"1\" class=\"dataframe\">\n",
       "  <thead>\n",
       "    <tr style=\"text-align: right;\">\n",
       "      <th></th>\n",
       "      <th>standard</th>\n",
       "    </tr>\n",
       "  </thead>\n",
       "  <tbody>\n",
       "    <tr>\n",
       "      <th>0</th>\n",
       "      <td>1(K)</td>\n",
       "    </tr>\n",
       "    <tr>\n",
       "      <th>1</th>\n",
       "      <td>2(U)</td>\n",
       "    </tr>\n",
       "    <tr>\n",
       "      <th>2</th>\n",
       "      <td>3(Th)</td>\n",
       "    </tr>\n",
       "  </tbody>\n",
       "</table>\n",
       "</div>"
      ],
      "text/plain": [
       "  standard\n",
       "0     1(K)\n",
       "1     2(U)\n",
       "2    3(Th)"
      ]
     },
     "execution_count": 2,
     "metadata": {},
     "output_type": "execute_result"
    }
   ],
   "source": [
    "standard = ['1(K)', '2(U)', '3(Th)']\n",
    "std_table = pd.DataFrame(standard,columns=['standard'])\n",
    "std_table"
   ]
  },
  {
   "cell_type": "code",
   "execution_count": 3,
   "metadata": {},
   "outputs": [],
   "source": [
    "std_table['Total mass (g)'] = [838.20, 836.53, 834.17]\n",
    "std_table['K_Content (%)'] = [5, 0.5, 0.5]\n",
    "std_table['U_Content (ppm)'] = [2, 15, 2]\n",
    "std_table['Th_Content (ppm)'] = [5, 5, 40]"
   ]
  },
  {
   "cell_type": "markdown",
   "metadata": {},
   "source": [
    "Foram feitas contagens de 30.000 s para cada padrão e para o branco onde foram obtidos os seguintes \n",
    "resultados, já subtraído o branco para as janelas:"
   ]
  },
  {
   "cell_type": "code",
   "execution_count": 4,
   "metadata": {},
   "outputs": [],
   "source": [
    "std_table['Counting time (s)'] = [30000,30000,30000]\n",
    "std_table['Window 1'] = [85934, 46076, 31564]\n",
    "std_table['Window 2'] = [4501, 22023, 16673]\n",
    "std_table['Window 3'] = [4719, 8901, 30400]"
   ]
  },
  {
   "cell_type": "code",
   "execution_count": 5,
   "metadata": {},
   "outputs": [
    {
     "data": {
      "text/html": [
       "<div>\n",
       "<style scoped>\n",
       "    .dataframe tbody tr th:only-of-type {\n",
       "        vertical-align: middle;\n",
       "    }\n",
       "\n",
       "    .dataframe tbody tr th {\n",
       "        vertical-align: top;\n",
       "    }\n",
       "\n",
       "    .dataframe thead th {\n",
       "        text-align: right;\n",
       "    }\n",
       "</style>\n",
       "<table border=\"1\" class=\"dataframe\">\n",
       "  <thead>\n",
       "    <tr style=\"text-align: right;\">\n",
       "      <th></th>\n",
       "      <th>standard</th>\n",
       "      <th>Total mass (g)</th>\n",
       "      <th>K_Content (%)</th>\n",
       "      <th>U_Content (ppm)</th>\n",
       "      <th>Th_Content (ppm)</th>\n",
       "      <th>Counting time (s)</th>\n",
       "      <th>Window 1</th>\n",
       "      <th>Window 2</th>\n",
       "      <th>Window 3</th>\n",
       "    </tr>\n",
       "  </thead>\n",
       "  <tbody>\n",
       "    <tr>\n",
       "      <th>0</th>\n",
       "      <td>1(K)</td>\n",
       "      <td>838.20</td>\n",
       "      <td>5.0</td>\n",
       "      <td>2</td>\n",
       "      <td>5</td>\n",
       "      <td>30000</td>\n",
       "      <td>85934</td>\n",
       "      <td>4501</td>\n",
       "      <td>4719</td>\n",
       "    </tr>\n",
       "    <tr>\n",
       "      <th>1</th>\n",
       "      <td>2(U)</td>\n",
       "      <td>836.53</td>\n",
       "      <td>0.5</td>\n",
       "      <td>15</td>\n",
       "      <td>5</td>\n",
       "      <td>30000</td>\n",
       "      <td>46076</td>\n",
       "      <td>22023</td>\n",
       "      <td>8901</td>\n",
       "    </tr>\n",
       "    <tr>\n",
       "      <th>2</th>\n",
       "      <td>3(Th)</td>\n",
       "      <td>834.17</td>\n",
       "      <td>0.5</td>\n",
       "      <td>2</td>\n",
       "      <td>40</td>\n",
       "      <td>30000</td>\n",
       "      <td>31564</td>\n",
       "      <td>16673</td>\n",
       "      <td>30400</td>\n",
       "    </tr>\n",
       "  </tbody>\n",
       "</table>\n",
       "</div>"
      ],
      "text/plain": [
       "  standard  Total mass (g)  K_Content (%)  U_Content (ppm)  Th_Content (ppm)  \\\n",
       "0     1(K)          838.20            5.0                2                 5   \n",
       "1     2(U)          836.53            0.5               15                 5   \n",
       "2    3(Th)          834.17            0.5                2                40   \n",
       "\n",
       "   Counting time (s)  Window 1  Window 2  Window 3  \n",
       "0              30000     85934      4501      4719  \n",
       "1              30000     46076     22023      8901  \n",
       "2              30000     31564     16673     30400  "
      ]
     },
     "execution_count": 5,
     "metadata": {},
     "output_type": "execute_result"
    }
   ],
   "source": [
    "std_table"
   ]
  },
  {
   "cell_type": "markdown",
   "metadata": {},
   "source": [
    "To determine the calibration coefficients, it is necessary to solve the following equations system:\n",
    "\n",
    "$$X_j = m_{X1}.A_{jk} + m_{X2}.A_{jk} + m_{X3}.A_{jk}$$\n",
    "\n",
    "Where j,k=[1,2,3], X=[K, U, Th] and $$A_{jk} = \\frac{Window_{jk}}{Counting_{jk}}$$."
   ]
  },
  {
   "cell_type": "code",
   "execution_count": 6,
   "metadata": {},
   "outputs": [],
   "source": [
    "k = []\n",
    "u = []\n",
    "th = []\n",
    "for i in range(len(std_table)):\n",
    "    k.append((std_table['K_Content (%)'][i]/100)*std_table['Total mass (g)'][i])\n",
    "    u.append((std_table['U_Content (ppm)'][i]/10e6)*std_table['Total mass (g)'][i])\n",
    "    th.append((std_table['Th_Content (ppm)'][i]/10e6)*std_table['Total mass (g)'][i])"
   ]
  },
  {
   "cell_type": "code",
   "execution_count": 7,
   "metadata": {},
   "outputs": [
    {
     "data": {
      "text/html": [
       "<div>\n",
       "<style scoped>\n",
       "    .dataframe tbody tr th:only-of-type {\n",
       "        vertical-align: middle;\n",
       "    }\n",
       "\n",
       "    .dataframe tbody tr th {\n",
       "        vertical-align: top;\n",
       "    }\n",
       "\n",
       "    .dataframe thead th {\n",
       "        text-align: right;\n",
       "    }\n",
       "</style>\n",
       "<table border=\"1\" class=\"dataframe\">\n",
       "  <thead>\n",
       "    <tr style=\"text-align: right;\">\n",
       "      <th></th>\n",
       "      <th>standard</th>\n",
       "      <th>Total mass (g)</th>\n",
       "      <th>K_Content (%)</th>\n",
       "      <th>U_Content (ppm)</th>\n",
       "      <th>Th_Content (ppm)</th>\n",
       "      <th>Counting time (s)</th>\n",
       "      <th>Window 1</th>\n",
       "      <th>Window 2</th>\n",
       "      <th>Window 3</th>\n",
       "    </tr>\n",
       "  </thead>\n",
       "  <tbody>\n",
       "    <tr>\n",
       "      <th>0</th>\n",
       "      <td>1(K)</td>\n",
       "      <td>838.20</td>\n",
       "      <td>5.0</td>\n",
       "      <td>2</td>\n",
       "      <td>5</td>\n",
       "      <td>30000</td>\n",
       "      <td>85934</td>\n",
       "      <td>4501</td>\n",
       "      <td>4719</td>\n",
       "    </tr>\n",
       "    <tr>\n",
       "      <th>1</th>\n",
       "      <td>2(U)</td>\n",
       "      <td>836.53</td>\n",
       "      <td>0.5</td>\n",
       "      <td>15</td>\n",
       "      <td>5</td>\n",
       "      <td>30000</td>\n",
       "      <td>46076</td>\n",
       "      <td>22023</td>\n",
       "      <td>8901</td>\n",
       "    </tr>\n",
       "    <tr>\n",
       "      <th>2</th>\n",
       "      <td>3(Th)</td>\n",
       "      <td>834.17</td>\n",
       "      <td>0.5</td>\n",
       "      <td>2</td>\n",
       "      <td>40</td>\n",
       "      <td>30000</td>\n",
       "      <td>31564</td>\n",
       "      <td>16673</td>\n",
       "      <td>30400</td>\n",
       "    </tr>\n",
       "  </tbody>\n",
       "</table>\n",
       "</div>"
      ],
      "text/plain": [
       "  standard  Total mass (g)  K_Content (%)  U_Content (ppm)  Th_Content (ppm)  \\\n",
       "0     1(K)          838.20            5.0                2                 5   \n",
       "1     2(U)          836.53            0.5               15                 5   \n",
       "2    3(Th)          834.17            0.5                2                40   \n",
       "\n",
       "   Counting time (s)  Window 1  Window 2  Window 3  \n",
       "0              30000     85934      4501      4719  \n",
       "1              30000     46076     22023      8901  \n",
       "2              30000     31564     16673     30400  "
      ]
     },
     "execution_count": 7,
     "metadata": {},
     "output_type": "execute_result"
    }
   ],
   "source": [
    "std_table"
   ]
  },
  {
   "cell_type": "code",
   "execution_count": 8,
   "metadata": {},
   "outputs": [],
   "source": [
    "a1 = []\n",
    "a2 = []\n",
    "a3 = []\n",
    "for j in range(len(std_table)):\n",
    "    a1.append(std_table[f'Window {j+1}'][0]/std_table['Counting time (s)'][j])\n",
    "    a2.append(std_table[f'Window {j+1}'][1]/std_table['Counting time (s)'][j])\n",
    "    a3.append(std_table[f'Window {j+1}'][2]/std_table['Counting time (s)'][j])"
   ]
  },
  {
   "cell_type": "code",
   "execution_count": 9,
   "metadata": {},
   "outputs": [
    {
     "data": {
      "text/plain": [
       "array([[2.86446667, 0.15003333, 0.1573    ],\n",
       "       [1.53586667, 0.7341    , 0.2967    ],\n",
       "       [1.05213333, 0.55576667, 1.01333333]])"
      ]
     },
     "execution_count": 9,
     "metadata": {},
     "output_type": "execute_result"
    }
   ],
   "source": [
    "A = np.array([a1, a2, a3])\n",
    "A"
   ]
  },
  {
   "cell_type": "markdown",
   "metadata": {},
   "source": [
    "Once we know all the values ​​$ X_j $ we can build three **linear equations system** to be solved. The resolution of these systems presents us 9 calibration coefficients used to calculate the concentrations of radionuclides in a sample."
   ]
  },
  {
   "cell_type": "code",
   "execution_count": 10,
   "metadata": {},
   "outputs": [
    {
     "name": "stdout",
     "output_type": "stream",
     "text": [
      "41.91 = mk1 . 2.86 + mk2 . 0.15 + mk3 . 0.16\n",
      "4.18 = mk1 . 1.54 + mk2 . 0.73 + mk3 . 0.30\n",
      "4.17 = mk1 . 1.05 + mk2 . 0.56 + mk3 . 1.01\n"
     ]
    }
   ],
   "source": [
    "print(f'{k[0] :.2f} = mk1 . {A[0][0] :.2f} + mk2 . {A[0][1] :.2f} + mk3 . {A[0][2] :.2f}')\n",
    "print(f'{k[1] :.2f} = mk1 . {A[1][0] :.2f} + mk2 . {A[1][1] :.2f} + mk3 . {A[1][2] :.2f}')\n",
    "print(f'{k[2] :.2f} = mk1 . {A[2][0] :.2f} + mk2 . {A[2][1] :.2f} + mk3 . {A[2][2] :.2f}')"
   ]
  },
  {
   "cell_type": "code",
   "execution_count": 11,
   "metadata": {},
   "outputs": [
    {
     "name": "stdout",
     "output_type": "stream",
     "text": [
      "0.00 = mu1 . 2.86 + mu2 . 0.15 + mu3 . 0.16\n",
      "0.00 = mu1 . 1.54 + mu2 . 0.73 + mu3 . 0.30\n",
      "0.00 = mu1 . 1.05 + mu2 . 0.56 + mu3 . 1.01\n"
     ]
    }
   ],
   "source": [
    "print(f'{u[0] :.2f} = mu1 . {A[0][0] :.2f} + mu2 . {A[0][1] :.2f} + mu3 . {A[0][2] :.2f}')\n",
    "print(f'{u[1] :.2f} = mu1 . {A[1][0] :.2f} + mu2 . {A[1][1] :.2f} + mu3 . {A[1][2] :.2f}')\n",
    "print(f'{u[2] :.2f} = mu1 . {A[2][0] :.2f} + mu2 . {A[2][1] :.2f} + mu3 . {A[2][2] :.2f}')"
   ]
  },
  {
   "cell_type": "code",
   "execution_count": 12,
   "metadata": {},
   "outputs": [
    {
     "name": "stdout",
     "output_type": "stream",
     "text": [
      "0.0004191 = mth1 . 2.86 + mth2 . 0.15 + mth3 . 0.16\n",
      "0.00041826499999999997 = mth1 . 1.54 + mth2 . 0.73 + mth3 . 0.30\n",
      "0.00333668 = mth1 . 1.05 + mth2 . 0.56 + mth3 . 1.01\n"
     ]
    }
   ],
   "source": [
    "print(f'{th[0]} = mth1 . {A[0][0] :.2f} + mth2 . {A[0][1] :.2f} + mth3 . {A[0][2] :.2f}')\n",
    "print(f'{th[1]} = mth1 . {A[1][0] :.2f} + mth2 . {A[1][1] :.2f} + mth3 . {A[1][2] :.2f}')\n",
    "print(f'{th[2]} = mth1 . {A[2][0] :.2f} + mth2 . {A[2][1] :.2f} + mth3 . {A[2][2] :.2f}')"
   ]
  },
  {
   "cell_type": "markdown",
   "metadata": {},
   "source": [
    "More clearly, we have\n",
    "\n",
    "$$(I) = \\left\\{\\begin{matrix}\n",
    "41.91 = m_{k1} . 2.86 + m_{k2} . 0.15 + m_{k3} . 0.16 \\\\ \n",
    "4.18 = m_{k1} . 1.54 + m_{k2} . 0.73 + m_{k3} . 0.30\\\\ \n",
    "4.17 = m_{k1} . 1.05 + m_{k2} . 0.56 + m_{k3} . 1.01\n",
    "\\end{matrix}\\right.$$\n",
    "\n",
    "$$(II) = \\left\\{\\begin{matrix}\n",
    "0.00016764 = m_{u1} . 2.86 + m_{u2} . 0.15 + m_{u3} . 0.16 \\\\ \n",
    "0.001254795 = m_{u1} . 1.54 + m_{u2} . 0.73 + m_{u3} . 0.30\\\\ \n",
    "0.0001668339 = m_{u1} . 1.05 + m_{u2} . 0.56 + m_{u3} . 1.01\n",
    "\\end{matrix}\\right.$$\n",
    "\n",
    "$$(III) = \\left\\{\\begin{matrix}\n",
    "0.0004191 = m_{th1} . 2.86 + m_{th2} . 0.15 + m_{th3} . 0.16 \\\\ \n",
    "0.0004182649 = m_{th1} . 1.54 + m_{th2} . 0.73 + m_{th3} . 0.30\\\\ \n",
    "0.00333668 = m_{th1} . 1.05 + m_{th2} . 0.56 + m_{th3} . 1.01\n",
    "\\end{matrix}\\right.$$"
   ]
  },
  {
   "cell_type": "markdown",
   "metadata": {},
   "source": [
    "These three equations systems give us the 9 calibration coefficients. To solve them, the **Gauss-Jacobi** iterative method was implemented."
   ]
  },
  {
   "cell_type": "markdown",
   "metadata": {},
   "source": [
    "# Gauss-Jacobi method\n",
    "\n",
    "Consider a linear system $\\textbf{A} \\textbf{m}_k = \\textbf{X}$, where **A** is a non-singular matrix with $a_{ii} \\neq 0$ with i = [ 1, ..., n].\n",
    "\n",
    "Isolating $m_{ki}$ from each line in the system, we write the system (**I**) as:\n",
    "\n",
    "$$m_{k1} = \\frac{(X_1 - (m_{k2} . a_{12} + m_{k3}. a_{13}))}{a_{11}} \\\\\n",
    "m_{k2} = \\frac{(X_2 - (m_{k1} . a_{21} + m_{k3}. a_{23}))}{a_{22}} \\\\\n",
    "m_{k3} = \\frac{(X_3 - (m_{k1} . a_{31} + m_{k2}. a_{32}))}{a_{33}}  $$"
   ]
  },
  {
   "cell_type": "markdown",
   "metadata": {},
   "source": [
    "So we have $m_k = Cm_k + g$, where\n",
    "\n",
    "$$\n",
    "C = \\begin{pmatrix}\n",
    "0 & -a_{12}/a_{11} & -a_{13}/a_{11}  & \\cdots  &  -a_{1n}/a_{11}\\\\ \n",
    "-a_{21}/a_{22} & 0 & -a_{23}/a_{22} &  \\cdots & -a_{2n}/a_{22}\\\\ \n",
    "\\vdots & \\vdots & \\vdots & \\vdots & \\vdots\\\\ \n",
    "-a_{n1}/a_{nn} & -a_{n2}/a_{nn} & -a_{n2}/a_{nn} & \\cdots & 0 \n",
    "\\end{pmatrix}\n",
    "$$\n",
    "\n",
    "And\n",
    "\n",
    "$$\n",
    "g = \\begin{pmatrix}\n",
    "X_{1}/a_{11}\\\\ \n",
    "X_{2}/a_{22}\\\\ \n",
    "\\vdots\\\\\n",
    "X_{n}/a_{nn} \n",
    "\\end{pmatrix} \n",
    "$$"
   ]
  },
  {
   "cell_type": "markdown",
   "metadata": {},
   "source": [
    "Given an initial approximation $ m_{k}^{(0)}$ for the $\\textbf{A}\\textbf{m}_k = \\textbf{x}$ system solution, the Jacobi method defines the sequence of vectors $ \\left \\{\\textbf{x}^{(k)} \\right \\}_{k\\geq0}$ using the following recurrence relationship:\n",
    "\n",
    "$$m_{ki}^{K+1} = \\frac{\\left ( \\textbf(x_i) - \\sum_{j=1}^{n} a_{ij}m_{kj}^{(k)} \\right )}{a_{ii}}$$\n",
    "\n",
    "Adopting as a stopping criterion only the maximum number of iterations entered by the user, the function to solve the equation system was implemented."
   ]
  },
  {
   "cell_type": "code",
   "execution_count": 13,
   "metadata": {},
   "outputs": [],
   "source": [
    "def gaussJacobi(A, b, Niter = 40):\n",
    "    aux = np.zeros(len(A))                                #auxiliary array to update the current model\n",
    "    xk = np.zeros(len(A))                                 #initial model xk = [0,0,0]\n",
    "    cont = 0                                          #counter to limit iterations\n",
    "    for i in range(len(A)):                           #transforming the matrix Amk = x in mk = Cx + g\n",
    "        for j in range(len(A)):\n",
    "            if i!=j:\n",
    "                A[i][j] /= A[i][i]\n",
    "        b[i] /= A[i][i]\n",
    "        aux[i] = b[i]\n",
    "    \n",
    "    while cont < Niter:                 #iteration with maximum cycles equal to Niter to update the array xk\n",
    "        for i in range(len(A)):\n",
    "            S = 0\n",
    "            for j in range(len(A)):\n",
    "                if i != j:\n",
    "                    S += A[i][j] * aux[j]\n",
    "            xk[i] = b[i] - S\n",
    "        aux = xk[:]\n",
    "        cont += 1\n",
    "    return xk"
   ]
  },
  {
   "cell_type": "markdown",
   "metadata": {},
   "source": [
    "**For Potassium (k)**"
   ]
  },
  {
   "cell_type": "code",
   "execution_count": 14,
   "metadata": {},
   "outputs": [],
   "source": [
    "mk = gaussJacobi(A, b=k)"
   ]
  },
  {
   "cell_type": "code",
   "execution_count": 15,
   "metadata": {},
   "outputs": [
    {
     "data": {
      "text/plain": [
       "array([ 15.96334881, -29.12009484,   3.51242432])"
      ]
     },
     "execution_count": 15,
     "metadata": {},
     "output_type": "execute_result"
    }
   ],
   "source": [
    "mk"
   ]
  },
  {
   "cell_type": "markdown",
   "metadata": {},
   "source": [
    "**For Uranium (U)**"
   ]
  },
  {
   "cell_type": "code",
   "execution_count": 16,
   "metadata": {},
   "outputs": [],
   "source": [
    "mu = gaussJacobi(A, b=u)"
   ]
  },
  {
   "cell_type": "code",
   "execution_count": 17,
   "metadata": {},
   "outputs": [
    {
     "data": {
      "text/plain": [
       "array([ 3.88969671e-05,  2.17907108e-03, -1.05461097e-03])"
      ]
     },
     "execution_count": 17,
     "metadata": {},
     "output_type": "execute_result"
    }
   ],
   "source": [
    "mu"
   ]
  },
  {
   "cell_type": "markdown",
   "metadata": {},
   "source": [
    "**For Thorium (Th)**"
   ]
  },
  {
   "cell_type": "code",
   "execution_count": 18,
   "metadata": {},
   "outputs": [],
   "source": [
    "mth = gaussJacobi(A, b=th)"
   ]
  },
  {
   "cell_type": "code",
   "execution_count": 19,
   "metadata": {},
   "outputs": [
    {
     "data": {
      "text/plain": [
       "array([ 0.00013609, -0.00387856,  0.00522677])"
      ]
     },
     "execution_count": 19,
     "metadata": {},
     "output_type": "execute_result"
    }
   ],
   "source": [
    "mth"
   ]
  },
  {
   "cell_type": "markdown",
   "metadata": {},
   "source": [
    "**Calculating concentrations**\n",
    "\n",
    "To determine the concentrations we will do\n",
    "\n",
    "$$C_k = \\frac{10^2}{Mt}(m_{k1}J_1 + m_{k2}J_2 + m_{k3}J_3)$$ \n",
    "\n",
    "$$C_u = \\frac{10^6}{Mt}(m_{u1}J_1 + m_{u2}J_2 + m_{u3}J_3)$$\n",
    "\n",
    "$$C_{th} = \\frac{10^6}{Mt}(m_{th1}J_1 + m_{th2}J_2 + m_{th3}J_3)$$\n",
    "\n",
    "\n",
    "\n",
    "The M and t values depends on the sample from which you want to calculate the concentrations, and are, respectively, the mass (g) of the sample and the counting time (s). In addition, $ J_i, i = [1,2,3] $ are the counting windows per each second and can be calculated as\n",
    "\n",
    "$$J = \\frac{Total \\ window}{Counting \\ time}$$."
   ]
  },
  {
   "cell_type": "markdown",
   "metadata": {},
   "source": [
    "Características da amostra"
   ]
  },
  {
   "cell_type": "code",
   "execution_count": 20,
   "metadata": {},
   "outputs": [],
   "source": [
    "def concentration(mass, t, j, mx, element):\n",
    "    if element == 'k':\n",
    "        cx = (100/(mass*t))*(mx[0]*(j[0]/t) + mx[1]*(j[1]/t) + mx[2]*(j[2]/t))\n",
    "    else:\n",
    "        cx = (1000000/(mass*t))*(mx[0]*(j[0]/t) + mx[1]*(j[1]/t) + mx[2]*(j[2]/t))\n",
    "    return cx    "
   ]
  },
  {
   "cell_type": "code",
   "execution_count": 21,
   "metadata": {},
   "outputs": [
    {
     "name": "stdout",
     "output_type": "stream",
     "text": [
      "Concentration \t Value\n",
      "\n",
      "Potassium \t 6.244687155128319e-07 %\n",
      "\n",
      "Uranium \t 2.3031985881156043e-07 ppm\n",
      "\n",
      "Thorium \t 9.995545304936622e-07 ppm\n"
     ]
    }
   ],
   "source": [
    "mass = 918.54\n",
    "t = 7200\n",
    "j = [38.287, 12.911, 17.690]\n",
    "ck = concentration(mass, t, j, mk, 'k')\n",
    "cu = concentration(mass, t, j, mu, 'u')\n",
    "cth = concentration(mass, t, j, mth, 'th')\n",
    "\n",
    "\n",
    "print(f'Concentration \\t Value')\n",
    "print(f'\\nPotassium \\t {ck} %')\n",
    "print(f'\\nUranium \\t {cu} ppm')\n",
    "print(f'\\nThorium \\t {cth} ppm')"
   ]
  },
  {
   "cell_type": "code",
   "execution_count": null,
   "metadata": {},
   "outputs": [],
   "source": []
  }
 ],
 "metadata": {
  "kernelspec": {
   "display_name": "Python 3",
   "language": "python",
   "name": "python3"
  },
  "language_info": {
   "codemirror_mode": {
    "name": "ipython",
    "version": 3
   },
   "file_extension": ".py",
   "mimetype": "text/x-python",
   "name": "python",
   "nbconvert_exporter": "python",
   "pygments_lexer": "ipython3",
   "version": "3.6.4"
  }
 },
 "nbformat": 4,
 "nbformat_minor": 2
}
